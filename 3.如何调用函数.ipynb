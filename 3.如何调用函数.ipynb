{
 "cells": [
  {
   "cell_type": "markdown",
   "metadata": {},
   "source": [
    "# AutoGEN 第三课： 如何调用函数处理一些更难的任务\n",
    "\n",
    "在大多数情况下，我们更希望通过调用一些自定义的函数来解决特定任务。那么应该如何来做呢？\n",
    "1. 首先应该构建好你需要的函数\n",
    "2. 将你需要调用的函数名称、功能描述、参数信息等告诉给assistant agent， 相当于让这个agent拥有了知识，它会在恰当的时候跟你的user proxy agent说： “小老弟， 完成这个任务，你可以调用这个函数”\n",
    "3. 将这个函数注册到user proxy agent， 这样，当其他的assistant agent告诉它可以调用这个函数的解决任务的时候， 它就会自动调用注册到自己的函数。\n",
    "\n",
    "可能听到这里，你可能会有一些疑惑，不要紧，我举一个例子来说明：\n",
    "前文我们提到， assistant agent本身没有执行代码的能力， 它能做的就只是： 别人问他问题，他根据已有的知识（大模型能力）来回答。如果你把一个函数的功能、用法、描述告诉他，他就拥有了这个知识。\n",
    "比如我们告诉assistant agent： 调用“剃成光头”函数就可以打败入侵xx星人。 \n",
    "当你提问：“如何拯救地球，打败外星侵略者的时候”， assistant agent 会问你要不要试试调用“剃成光头”函数， 并把如何使用这个必杀函数的秘诀告诉你，如果你没有拒绝， 你的user proxy agent 会毫不犹豫的把你剃成秃子。 TOT。 （认真脸）\n",
    "\n",
    "下面我们会用一个正经的例子，来向你阐述这个在代码中的用法。"
   ]
  },
  {
   "cell_type": "markdown",
   "metadata": {},
   "source": [
    "## 1. 配置环境\n",
    "\n",
    "1. 你需要安装autogent的库， 要求python版本>=3.8\n",
    "2. 配置openai 或者 azure openai的api key, 并将key写入到一个名为 \"OAI_CONFIG_LIST\"的文件中，并将该文件放在项目目录下。或者将其配置到你的环境变量中。\n",
    "\n",
    "OAI_CONFIG_LIST的内容结构如下：\n",
    "```python\n",
    "[\n",
    "    {\n",
    "        'model': 'gpt-4',\n",
    "        'api_key': '<your OpenAI API key here>',\n",
    "    },\n",
    "    {\n",
    "        'model': 'gpt-4',\n",
    "        'api_key': '<your Azure OpenAI API key here>',\n",
    "        'api_base': '<your Azure OpenAI API base here>',\n",
    "        'api_type': 'azure',\n",
    "        'api_version': '2023-06-01-preview',\n",
    "    },\n",
    "    {\n",
    "        'model': 'gpt-4-32k',\n",
    "        'api_key': '<your Azure OpenAI API key here>',\n",
    "        'api_base': '<your Azure OpenAI API base here>',\n",
    "        'api_type': 'azure',\n",
    "        'api_version': '2023-06-01-preview',\n",
    "    },\n",
    "]"
   ]
  },
  {
   "cell_type": "code",
   "execution_count": 3,
   "metadata": {},
   "outputs": [
    {
     "name": "stdout",
     "output_type": "stream",
     "text": [
      "Note: you may need to restart the kernel to use updated packages.\n"
     ]
    }
   ],
   "source": [
    "%pip install pyautogen~=0.1.0 -q"
   ]
  },
  {
   "cell_type": "markdown",
   "metadata": {},
   "source": [
    "## 2.调用一个简单函数来实现功能"
   ]
  },
  {
   "cell_type": "code",
   "execution_count": 2,
   "metadata": {},
   "outputs": [],
   "source": [
    "import math \n",
    "def calculate_circumference(radius: float):\n",
    "    \"\"\" 计算一个圆的周长\"\"\"\n",
    "    return float(radius) * 2.0 * math.pi\n"
   ]
  },
  {
   "cell_type": "code",
   "execution_count": 8,
   "metadata": {},
   "outputs": [
    {
     "name": "stdout",
     "output_type": "stream",
     "text": [
      "\u001b[33muser_proxy\u001b[0m (to assistant_agent):\n",
      "\n",
      "直径为10的圆，周长是多少？\n",
      "\n",
      "--------------------------------------------------------------------------------\n",
      "\u001b[33massistant_agent\u001b[0m (to user_proxy):\n",
      "\n",
      "为了求解这个问题，我们需要知道圆的周长的计算公式是 𝑃=2𝜋𝑟，其中 𝑃 是圆的周长，𝑟 是圆的半径，𝜋 是一个常数，大约等于3.14159。在这个问题中，圆的直径是10，所以半径是5。\n",
      "\n",
      "现在我们可以使用这个信息和我们的函数来计算圆的周长。\n",
      "\n",
      "让我们来写一段代码来解决这个问题。\n",
      "\u001b[32m***** Suggested function Call: calculate_circumference *****\u001b[0m\n",
      "Arguments: \n",
      "{\n",
      "  \"radius\": \"5\"\n",
      "}\n",
      "\u001b[32m************************************************************\u001b[0m\n",
      "\n",
      "--------------------------------------------------------------------------------\n",
      "\u001b[31m\n",
      ">>>>>>>> NO HUMAN INPUT RECEIVED.\u001b[0m\n",
      "\u001b[31m\n",
      ">>>>>>>> USING AUTO REPLY...\u001b[0m\n",
      "\u001b[35m\n",
      ">>>>>>>> EXECUTING FUNCTION calculate_circumference...\u001b[0m\n",
      "\u001b[33muser_proxy\u001b[0m (to assistant_agent):\n",
      "\n",
      "\u001b[32m***** Response from calling function \"calculate_circumference\" *****\u001b[0m\n",
      "31.41592653589793\n",
      "\u001b[32m********************************************************************\u001b[0m\n",
      "\n",
      "--------------------------------------------------------------------------------\n",
      "\u001b[33massistant_agent\u001b[0m (to user_proxy):\n",
      "\n",
      "直径为10的圆，其周长约为31.42。\n",
      "\n",
      "TERMINATE\n",
      "\n",
      "--------------------------------------------------------------------------------\n"
     ]
    }
   ],
   "source": [
    "import autogen\n",
    "\n",
    "config_list = autogen.config_list_from_json(\n",
    "    \"OAI_CONFIG_LIST\",\n",
    "    filter_dict={\n",
    "        \"model\": [\"gpt-4\", \"gpt-4-0314\", \"gpt4\"],\n",
    "    },\n",
    ")\n",
    "\n",
    "llm_config = {\n",
    "    \"functions\": [\n",
    "        {\n",
    "            \"name\": \"calculate_circumference\",\n",
    "            \"description\": \"Calculate the circumference of a circle\",\n",
    "            \"parameters\": {\n",
    "                \"type\": \"object\",\n",
    "                \"properties\": {\n",
    "                    \"radius\": {\n",
    "                        \"type\": \"string\",\n",
    "                        \"description\": \"The radius of the circle\"\n",
    "                    }\n",
    "                },\n",
    "                \"required\": [\"radius\"]\n",
    "            }\n",
    "        }\n",
    "    ],\n",
    "    \"config_list\": config_list,\n",
    "    \"request_timeout\": 120,\n",
    "}\n",
    "\n",
    "assistant_agent = autogen.AssistantAgent(\n",
    "    name=\"assistant_agent\",\n",
    "    llm_config=llm_config\n",
    ")\n",
    "\n",
    "user_proxy = autogen.UserProxyAgent(\n",
    "    name=\"user_proxy\",\n",
    "    human_input_mode=\"ALWAYS\",\n",
    "    max_consecutive_auto_reply=10,\n",
    "    code_execution_config={\n",
    "        \"work_dir\": \"coding\",\n",
    "        \"use_docker\": False,\n",
    "    }\n",
    ")\n",
    "\n",
    "# 注册函数\n",
    "user_proxy.register_function(\n",
    "    function_map={\n",
    "        \"calculate_circumference\": calculate_circumference,\n",
    "    }\n",
    ")\n",
    "\n",
    "user_proxy.initiate_chat(\n",
    "    assistant_agent,\n",
    "    message=\"直径为10的圆，周长是多少？\"\n",
    ")"
   ]
  }
 ],
 "metadata": {
  "kernelspec": {
   "display_name": "base",
   "language": "python",
   "name": "python3"
  },
  "language_info": {
   "codemirror_mode": {
    "name": "ipython",
    "version": 3
   },
   "file_extension": ".py",
   "mimetype": "text/x-python",
   "name": "python",
   "nbconvert_exporter": "python",
   "pygments_lexer": "ipython3",
   "version": "3.10.9"
  }
 },
 "nbformat": 4,
 "nbformat_minor": 2
}
